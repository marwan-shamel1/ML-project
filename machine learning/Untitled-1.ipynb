{
 "cells": [
  {
   "cell_type": "code",
   "execution_count": 8,
   "metadata": {},
   "outputs": [
    {
     "name": "stdout",
     "output_type": "stream",
     "text": [
      "Basic Statistics\n",
      "Mean: 17\n",
      "Median: 20\n",
      "Mode: 34\n",
      "Variance: 2353\n"
     ]
    }
   ],
   "source": [
    "from stat import *\n",
    "from statistics import *\n",
    "from math import *\n",
    "import numpy as np\n",
    "# 1. Basic Statistics\n",
    "print(\"Basic Statistics\")\n",
    "data = [34, -56, 20, 78, 9]\n",
    "mean = mean(data)\n",
    "median = median(data)\n",
    "mode = mode(data)\n",
    "variance = variance(data)\n",
    "# std_dev = ST_DEV(data)\n",
    "print('Mean:', mean)\n",
    "print('Median:', median)\n",
    "print('Mode:', mode)\n",
    "print('Variance:', variance)\n",
    "# print('Standard Deviation:', std_dev)"
   ]
  },
  {
   "cell_type": "code",
   "execution_count": 23,
   "metadata": {},
   "outputs": [
    {
     "name": "stdout",
     "output_type": "stream",
     "text": [
      "ID           0\n",
      "No_Pation    0\n",
      "Gender       0\n",
      "AGE          0\n",
      "Urea         0\n",
      "Cr           0\n",
      "HbA1c        0\n",
      "Chol         0\n",
      "TG           0\n",
      "HDL          0\n",
      "LDL          0\n",
      "VLDL         0\n",
      "BMI          0\n",
      "CLASS        0\n",
      "dtype: int64\n",
      "<class 'pandas.core.frame.DataFrame'>\n",
      "RangeIndex: 1000 entries, 0 to 999\n",
      "Data columns (total 14 columns):\n",
      " #   Column     Non-Null Count  Dtype  \n",
      "---  ------     --------------  -----  \n",
      " 0   ID         1000 non-null   int64  \n",
      " 1   No_Pation  1000 non-null   int64  \n",
      " 2   Gender     1000 non-null   object \n",
      " 3   AGE        1000 non-null   int64  \n",
      " 4   Urea       1000 non-null   float64\n",
      " 5   Cr         1000 non-null   int64  \n",
      " 6   HbA1c      1000 non-null   float64\n",
      " 7   Chol       1000 non-null   float64\n",
      " 8   TG         1000 non-null   float64\n",
      " 9   HDL        1000 non-null   float64\n",
      " 10  LDL        1000 non-null   float64\n",
      " 11  VLDL       1000 non-null   float64\n",
      " 12  BMI        1000 non-null   float64\n",
      " 13  CLASS      1000 non-null   object \n",
      "dtypes: float64(8), int64(4), object(2)\n",
      "memory usage: 109.5+ KB\n"
     ]
    },
    {
     "data": {
      "text/plain": [
       "53.528"
      ]
     },
     "execution_count": 23,
     "metadata": {},
     "output_type": "execute_result"
    }
   ],
   "source": [
    "from numpy import *\n",
    "from pandas import *\n",
    "import matplotlib.pyplot as plt\n",
    "import seaborn as sns\n",
    "import scikit_posthocs as sp\n",
    "import turtle as tt\n",
    "df=read_csv(\"../Dataset of Diabetes .csv\")\n",
    "print(df.isna().sum())\n",
    "df.info()\n",
    "df[\"AGE\"].mean()"
   ]
  },
  {
   "cell_type": "code",
   "execution_count": 1,
   "metadata": {},
   "outputs": [
    {
     "name": "stdout",
     "output_type": "stream",
     "text": [
      "   col1  col2  col3  col4\n",
      "0     1     5     9    13\n",
      "1     2     6    10     0\n",
      "2     3     0    11    15\n",
      "3     0     8    12    16\n"
     ]
    }
   ],
   "source": [
    "#cleaning\n",
    "import numpy as np\n",
    "import pandas as pd\n",
    "\n",
    "\n",
    "data = {'col1': [1, 2, 3, 0],\n",
    "        'col2': [5, 6, 0, 8],\n",
    "        'col3': [9, 10, 11, 12],\n",
    "        'col4': [13, 0, 15, 16]}\n",
    "df = pd.DataFrame(data)\n",
    "df = df.replace(df['col1'].values==0, df.mean())\n",
    "print(df)"
   ]
  },
  {
   "cell_type": "code",
   "execution_count": 53,
   "metadata": {},
   "outputs": [
    {
     "name": "stdout",
     "output_type": "stream",
     "text": [
      "      ID  No_Pation Gender       AGE      Urea        Cr     HbA1c      Chol  \\\n",
      "0    502      17975      F  0.508475  0.109375  0.050378  0.264901  0.407767   \n",
      "1    735      34221      M  0.101695  0.104167  0.070529  0.264901  0.359223   \n",
      "2    420      47975      F  0.508475  0.109375  0.050378  0.264901  0.407767   \n",
      "3    680      87656      F  0.508475  0.109375  0.050378  0.264901  0.407767   \n",
      "4    504      34223      M  0.220339  0.171875  0.050378  0.264901  0.475728   \n",
      "..   ...        ...    ...       ...       ...       ...       ...       ...   \n",
      "995  200     454317      M  0.864407  0.273438  0.114610  0.403974  0.728155   \n",
      "996  671     876534      M  0.186441  0.065104  0.068010  0.754967  0.398058   \n",
      "997  669      87654      M  0.169492  0.171875  0.094458  0.384106  0.398058   \n",
      "998   99      24004      M  0.305085  0.138021  0.066751  0.384106  0.514563   \n",
      "999  248      24054      M  0.576271  0.117188  0.076826  0.397351  0.368932   \n",
      "\n",
      "           TG       HDL       LDL      VLDL       BMI CLASS  \n",
      "0    0.044444  0.226804  0.114583  0.011461  0.173913     N  \n",
      "1    0.081481  0.092784  0.187500  0.014327  0.139130     N  \n",
      "2    0.044444  0.226804  0.114583  0.011461  0.173913     N  \n",
      "3    0.044444  0.226804  0.114583  0.011461  0.173913     N  \n",
      "4    0.051852  0.061856  0.177083  0.008596  0.069565     N  \n",
      "..        ...       ...       ...       ...       ...   ...  \n",
      "995  0.103704  0.103093  0.156250  0.014327  0.382609     Y  \n",
      "996  0.140741  0.051546  0.218750  0.438395  0.633043    Y   \n",
      "997  0.059259  0.103093  0.218750  0.229226  0.292174    Y   \n",
      "998  0.125926  0.144330  0.270833  0.398281  0.747826    Y   \n",
      "999  0.103704  0.092784  0.281250  0.017192  0.486957    Y   \n",
      "\n",
      "[1000 rows x 14 columns]\n"
     ]
    },
    {
     "name": "stderr",
     "output_type": "stream",
     "text": [
      "c:\\Users\\HP\\AppData\\Local\\Programs\\Python\\Python310\\lib\\site-packages\\sklearn\\utils\\validation.py:623: FutureWarning: is_sparse is deprecated and will be removed in a future version. Check `isinstance(dtype, pd.SparseDtype)` instead.\n",
      "  if not hasattr(array, \"sparse\") and array.dtypes.apply(is_sparse).any():\n",
      "c:\\Users\\HP\\AppData\\Local\\Programs\\Python\\Python310\\lib\\site-packages\\sklearn\\utils\\validation.py:623: FutureWarning: is_sparse is deprecated and will be removed in a future version. Check `isinstance(dtype, pd.SparseDtype)` instead.\n",
      "  if not hasattr(array, \"sparse\") and array.dtypes.apply(is_sparse).any():\n"
     ]
    }
   ],
   "source": [
    "# (Max-Min)/(n-1)\n",
    "from sklearn.preprocessing import MinMaxScaler\n",
    "scaler = MinMaxScaler()\n",
    "nums = ['AGE', 'Urea', 'Cr', 'HbA1c', 'Chol', 'TG', 'HDL', 'LDL', 'VLDL', 'BMI']\n",
    "df[nums] = scaler.fit_transform(df[nums])\n",
    "print(df)"
   ]
  },
  {
   "cell_type": "code",
   "execution_count": 13,
   "metadata": {},
   "outputs": [
    {
     "name": "stdout",
     "output_type": "stream",
     "text": [
      "      ID  No_Pation  Gender       AGE      Urea        Cr     HbA1c      Chol  \\\n",
      "0    502      17975       0  0.508475  0.109375  0.050378  0.264901  0.407767   \n",
      "1    735      34221       1  0.101695  0.104167  0.070529  0.264901  0.359223   \n",
      "2    420      47975       0  0.508475  0.109375  0.050378  0.264901  0.407767   \n",
      "3    680      87656       0  0.508475  0.109375  0.050378  0.264901  0.407767   \n",
      "4    504      34223       1  0.220339  0.171875  0.050378  0.264901  0.475728   \n",
      "..   ...        ...     ...       ...       ...       ...       ...       ...   \n",
      "995  200     454317       1  0.864407  0.273438  0.114610  0.403974  0.728155   \n",
      "996  671     876534       1  0.186441  0.065104  0.068010  0.754967  0.398058   \n",
      "997  669      87654       1  0.169492  0.171875  0.094458  0.384106  0.398058   \n",
      "998   99      24004       1  0.305085  0.138021  0.066751  0.384106  0.514563   \n",
      "999  248      24054       1  0.576271  0.117188  0.076826  0.397351  0.368932   \n",
      "\n",
      "           TG       HDL       LDL      VLDL       BMI  CLASS  \n",
      "0    0.044444  0.226804  0.114583  0.011461  0.173913      0  \n",
      "1    0.081481  0.092784  0.187500  0.014327  0.139130      0  \n",
      "2    0.044444  0.226804  0.114583  0.011461  0.173913      0  \n",
      "3    0.044444  0.226804  0.114583  0.011461  0.173913      0  \n",
      "4    0.051852  0.061856  0.177083  0.008596  0.069565      0  \n",
      "..        ...       ...       ...       ...       ...    ...  \n",
      "995  0.103704  0.103093  0.156250  0.014327  0.382609      3  \n",
      "996  0.140741  0.051546  0.218750  0.438395  0.633043      4  \n",
      "997  0.059259  0.103093  0.218750  0.229226  0.292174      4  \n",
      "998  0.125926  0.144330  0.270833  0.398281  0.747826      4  \n",
      "999  0.103704  0.092784  0.281250  0.017192  0.486957      4  \n",
      "\n",
      "[1000 rows x 14 columns]\n"
     ]
    }
   ],
   "source": [
    "#اداة مستخدمة عشان نقسم الداتا الحروف لأرقام فنغيرها\n",
    "from sklearn.preprocessing import LabelEncoder\n",
    "label_encoder = LabelEncoder()\n",
    "df['Gender'] = label_encoder.fit_transform(df['Gender'])\n",
    "df['CLASS'] = label_encoder.fit_transform(df['CLASS'])\n",
    "print(df)"
   ]
  },
  {
   "cell_type": "code",
   "execution_count": 55,
   "metadata": {},
   "outputs": [
    {
     "name": "stdout",
     "output_type": "stream",
     "text": [
      "0       N\n",
      "1       N\n",
      "2       N\n",
      "3       N\n",
      "4       N\n",
      "       ..\n",
      "995     Y\n",
      "996    Y \n",
      "997    Y \n",
      "998    Y \n",
      "999    Y \n",
      "Name: CLASS, Length: 1000, dtype: object\n"
     ]
    }
   ],
   "source": [
    "features = df.drop(['ID', 'No_Pation', 'CLASS'], axis=1)\n",
    "target = df['CLASS']\n",
    "print(target)"
   ]
  },
  {
   "cell_type": "code",
   "execution_count": 59,
   "metadata": {},
   "outputs": [
    {
     "name": "stdout",
     "output_type": "stream",
     "text": [
      "    Gender       AGE      Urea        Cr     HbA1c      Chol        TG  \\\n",
      "307      M  0.593220  0.083333  0.109572  0.417219  0.310680  0.118519   \n",
      "146      F  0.338983  0.041667  0.057935  0.331126  0.203883  0.148148   \n",
      "528      F  0.525424  0.093750  0.090680  0.417219  0.699029  0.370370   \n",
      "980      M  0.525424  0.130208  0.096977  0.562914  0.621359  0.148148   \n",
      "776      M  0.593220  0.078125  0.088161  0.622517  0.941748  0.918519   \n",
      "..     ...       ...       ...       ...       ...       ...       ...   \n",
      "795      M  0.677966  0.114583  0.034005  0.615894  0.378641  0.022222   \n",
      "609      M  0.711864  0.117188  0.071788  0.748344  0.349515  0.355556   \n",
      "121      F  0.322034  0.065104  0.040302  0.364238  0.456311  0.074074   \n",
      "420      F  0.525424  0.132813  0.054156  0.370861  0.398058  0.133333   \n",
      "610      F  0.593220  0.091146  0.062972  0.847682  0.427184  0.125926   \n",
      "\n",
      "          HDL       LDL      VLDL       BMI  \n",
      "307  0.041237  0.156250  0.020057  0.382609  \n",
      "146  0.072165  0.260417  0.031519  0.382609  \n",
      "528  0.082474  0.364583  0.065903  0.660870  \n",
      "980  0.216495  0.302083  0.025788  0.486957  \n",
      "776  0.072165  0.281250  0.163324  0.486957  \n",
      "..        ...       ...       ...       ...  \n",
      "795  0.113402  0.208333  0.005731  0.347826  \n",
      "609  0.072165  0.229167  0.022923  0.382609  \n",
      "121  0.092784  0.291667  0.014327  0.104348  \n",
      "420  0.051546  0.229167  0.022923  0.452174  \n",
      "610  0.082474  0.229167  0.022923  0.626087  \n",
      "\n",
      "[800 rows x 11 columns]\n",
      "    Gender       AGE      Urea        Cr     HbA1c      Chol        TG  \\\n",
      "788      F  0.593220  0.067708  0.041562  0.754967  0.514563  0.096296   \n",
      "33       F  0.372881  0.117188  0.084383  0.238411  0.601942  0.051852   \n",
      "45       M  0.491525  0.135417  0.085642  0.251656  0.504854  0.059259   \n",
      "203      M  0.372881  0.106771  0.107053  0.238411  0.543689  0.133333   \n",
      "336      M  0.542373  0.190104  0.389169  0.450331  0.339806  0.074074   \n",
      "..     ...       ...       ...       ...       ...       ...       ...   \n",
      "485      F  0.542373  0.210938  0.102015  0.688742  0.669903  0.170370   \n",
      "616      F  0.847458  0.130208  0.040302  0.516556  0.572816  0.074074   \n",
      "36       F  0.305085  0.039063  0.017632  0.278146  0.291262  0.066667   \n",
      "91       M  0.508475  0.236979  0.248111  0.298013  0.368932  0.414815   \n",
      "62       M  0.457627  0.184896  0.099496  0.225166  0.417476  0.148148   \n",
      "\n",
      "          HDL       LDL      VLDL       BMI  \n",
      "788  0.128866  0.145833  0.017192  0.313043  \n",
      "33   0.092784  0.447917  0.008596  0.173913  \n",
      "45   0.072165  0.114583  0.017192  0.069565  \n",
      "203  0.072165  0.364583  0.022923  0.104348  \n",
      "336  0.082474  0.135417  0.037249  0.486957  \n",
      "..        ...       ...       ...       ...  \n",
      "485  0.103093  0.177083  0.028653  0.382609  \n",
      "616  0.123711  0.046875  0.014327  0.382609  \n",
      "36   0.041237  0.177083  0.011461  0.069565  \n",
      "91   0.030928  0.416667  0.034384  0.104348  \n",
      "62   0.072165  0.218750  0.025788  0.173913  \n",
      "\n",
      "[200 rows x 11 columns]\n"
     ]
    }
   ],
   "source": [
    "from sklearn.model_selection import train_test_split\n",
    "X_train, X_test, y_train, y_test = train_test_split(features, target, test_size=0.2, random_state=42)\n",
    "print(X_train)\n",
    "print(X_test)\n",
    "# print(y_train)\n",
    "# print(y_test)"
   ]
  },
  {
   "cell_type": "code",
   "execution_count": 46,
   "metadata": {},
   "outputs": [
    {
     "name": "stdout",
     "output_type": "stream",
     "text": [
      "Linear Regression:\n",
      "score trainaing data (Linear Regression): 0.4603359023320881\n",
      "score testing data (Linear Regression): 0.4752442568898383\n",
      "Mean Squared Error (Linear Regression): 0.45359886434442387\n",
      "R-squared (Linear Regression): 0.4752442568898383\n",
      "Mean Absolute Error (Linear Regression): 0.4845177910550635\n",
      "Median Absolute Error (Linear Regression): 0.30942057320616156\n"
     ]
    },
    {
     "name": "stderr",
     "output_type": "stream",
     "text": [
      "c:\\Users\\HP\\AppData\\Local\\Programs\\Python\\Python310\\lib\\site-packages\\sklearn\\utils\\validation.py:623: FutureWarning: is_sparse is deprecated and will be removed in a future version. Check `isinstance(dtype, pd.SparseDtype)` instead.\n",
      "  if not hasattr(array, \"sparse\") and array.dtypes.apply(is_sparse).any():\n",
      "c:\\Users\\HP\\AppData\\Local\\Programs\\Python\\Python310\\lib\\site-packages\\sklearn\\utils\\validation.py:623: FutureWarning: is_sparse is deprecated and will be removed in a future version. Check `isinstance(dtype, pd.SparseDtype)` instead.\n",
      "  if not hasattr(array, \"sparse\") and array.dtypes.apply(is_sparse).any():\n",
      "c:\\Users\\HP\\AppData\\Local\\Programs\\Python\\Python310\\lib\\site-packages\\sklearn\\utils\\validation.py:623: FutureWarning: is_sparse is deprecated and will be removed in a future version. Check `isinstance(dtype, pd.SparseDtype)` instead.\n",
      "  if not hasattr(array, \"sparse\") and array.dtypes.apply(is_sparse).any():\n",
      "c:\\Users\\HP\\AppData\\Local\\Programs\\Python\\Python310\\lib\\site-packages\\sklearn\\utils\\validation.py:623: FutureWarning: is_sparse is deprecated and will be removed in a future version. Check `isinstance(dtype, pd.SparseDtype)` instead.\n",
      "  if not hasattr(array, \"sparse\") and array.dtypes.apply(is_sparse).any():\n"
     ]
    }
   ],
   "source": [
    "from sklearn.linear_model import LinearRegression\n",
    "from sklearn.metrics import mean_squared_error, r2_score, mean_absolute_error,median_absolute_error\n",
    "\n",
    "\n",
    "print(\"Linear Regression:\")\n",
    "linear_reg = LinearRegression()\n",
    "linear_reg.fit(X_train, y_train)\n",
    "y_pred_linear = linear_reg.predict(X_test)\n",
    "mse_linear = mean_squared_error(y_test, y_pred_linear)\n",
    "r2_linear = r2_score(y_test, y_pred_linear)\n",
    "mae_linear = mean_absolute_error(y_test, y_pred_linear)\n",
    "median_ae_linear = median_absolute_error(y_test, y_pred_linear)\n",
    "print(\"score trainaing data (Linear Regression):\", linear_reg.score(X_train,y_train))\n",
    "print(\"score testing data (Linear Regression):\", linear_reg.score(X_test,y_test))\n",
    "print(\"Mean Squared Error (Linear Regression):\", mse_linear)\n",
    "print(\"R-squared (Linear Regression):\", r2_linear)\n",
    "print(\"Mean Absolute Error (Linear Regression):\", mae_linear)\n",
    "print(\"Median Absolute Error (Linear Regression):\", median_ae_linear)"
   ]
  },
  {
   "cell_type": "code",
   "execution_count": 49,
   "metadata": {},
   "outputs": [
    {
     "name": "stdout",
     "output_type": "stream",
     "text": [
      "\n",
      "K-Nearest Neighbors:\n",
      "score trainaing data (Linear Regression): 0.8049510111829707\n",
      "score testing data (Linear Regression): 0.7769551133734383\n",
      "Mean Squared Error (KNN): 0.1928\n",
      "R-squared (KNN): 0.7769551133734383\n",
      "Mean Absolute Error (KNN): 0.15\n"
     ]
    },
    {
     "name": "stderr",
     "output_type": "stream",
     "text": [
      "c:\\Users\\HP\\AppData\\Local\\Programs\\Python\\Python310\\lib\\site-packages\\sklearn\\utils\\validation.py:623: FutureWarning: is_sparse is deprecated and will be removed in a future version. Check `isinstance(dtype, pd.SparseDtype)` instead.\n",
      "  if not hasattr(array, \"sparse\") and array.dtypes.apply(is_sparse).any():\n",
      "c:\\Users\\HP\\AppData\\Local\\Programs\\Python\\Python310\\lib\\site-packages\\sklearn\\utils\\validation.py:623: FutureWarning: is_sparse is deprecated and will be removed in a future version. Check `isinstance(dtype, pd.SparseDtype)` instead.\n",
      "  if not hasattr(array, \"sparse\") and array.dtypes.apply(is_sparse).any():\n",
      "c:\\Users\\HP\\AppData\\Local\\Programs\\Python\\Python310\\lib\\site-packages\\sklearn\\utils\\validation.py:623: FutureWarning: is_sparse is deprecated and will be removed in a future version. Check `isinstance(dtype, pd.SparseDtype)` instead.\n",
      "  if not hasattr(array, \"sparse\") and array.dtypes.apply(is_sparse).any():\n",
      "c:\\Users\\HP\\AppData\\Local\\Programs\\Python\\Python310\\lib\\site-packages\\sklearn\\utils\\validation.py:623: FutureWarning: is_sparse is deprecated and will be removed in a future version. Check `isinstance(dtype, pd.SparseDtype)` instead.\n",
      "  if not hasattr(array, \"sparse\") and array.dtypes.apply(is_sparse).any():\n"
     ]
    }
   ],
   "source": [
    "from sklearn.neighbors import KNeighborsRegressor\n",
    "from sklearn.metrics import mean_squared_error, r2_score, mean_absolute_error,median_absolute_error\n",
    "print(\"\\nK-Nearest Neighbors:\")\n",
    "knn_reg = KNeighborsRegressor(n_neighbors=5)\n",
    "knn_reg.fit(X_train, y_train)\n",
    "y_pred_knn = knn_reg.predict(X_test)\n",
    "mse_knn = mean_squared_error(y_test, y_pred_knn)\n",
    "r2_knn = r2_score(y_test, y_pred_knn)\n",
    "mae_knn = mean_absolute_error(y_test, y_pred_knn)\n",
    "print(\"score trainaing data (Linear Regression):\", knn_reg.score(X_train,y_train))\n",
    "print(\"score testing data (Linear Regression):\", knn_reg.score(X_test,y_test))\n",
    "print(\"Mean Squared Error (KNN):\", mse_knn)\n",
    "print(\"R-squared (KNN):\", r2_knn)\n",
    "print(\"Mean Absolute Error (KNN):\", mae_knn)"
   ]
  },
  {
   "cell_type": "code",
   "execution_count": 1,
   "metadata": {},
   "outputs": [
    {
     "ename": "NameError",
     "evalue": "name 'plt' is not defined",
     "output_type": "error",
     "traceback": [
      "\u001b[1;31m---------------------------------------------------------------------------\u001b[0m",
      "\u001b[1;31mNameError\u001b[0m                                 Traceback (most recent call last)",
      "Cell \u001b[1;32mIn[1], line 3\u001b[0m\n\u001b[0;32m      1\u001b[0m \u001b[38;5;28;01mimport\u001b[39;00m \u001b[38;5;21;01mpandas\u001b[39;00m \u001b[38;5;28;01mas\u001b[39;00m \u001b[38;5;21;01mpd\u001b[39;00m\n\u001b[1;32m----> 3\u001b[0m \u001b[43mplt\u001b[49m\u001b[38;5;241m.\u001b[39mscatter(y_test, y_pred_linear, label\u001b[38;5;241m=\u001b[39m\u001b[38;5;124m'\u001b[39m\u001b[38;5;124mLinear Regression\u001b[39m\u001b[38;5;124m'\u001b[39m, marker\u001b[38;5;241m=\u001b[39m\u001b[38;5;124m'\u001b[39m\u001b[38;5;124mo\u001b[39m\u001b[38;5;124m'\u001b[39m)\n\u001b[0;32m      4\u001b[0m plt\u001b[38;5;241m.\u001b[39mscatter(y_test, y_pred_knn, label\u001b[38;5;241m=\u001b[39m\u001b[38;5;124m'\u001b[39m\u001b[38;5;124mKNN\u001b[39m\u001b[38;5;124m'\u001b[39m, marker\u001b[38;5;241m=\u001b[39m\u001b[38;5;124m'\u001b[39m\u001b[38;5;124mx\u001b[39m\u001b[38;5;124m'\u001b[39m)\n\u001b[0;32m      5\u001b[0m plt\u001b[38;5;241m.\u001b[39mxlabel(\u001b[38;5;124m'\u001b[39m\u001b[38;5;124mActual Values\u001b[39m\u001b[38;5;124m'\u001b[39m)\n",
      "\u001b[1;31mNameError\u001b[0m: name 'plt' is not defined"
     ]
    }
   ],
   "source": [
    "import pandas as pd\n",
    "\n",
    "plt.scatter(y_test, y_pred_linear, label='Linear Regression', marker='o')\n",
    "plt.scatter(y_test, y_pred_knn, label='KNN', marker='x')\n",
    "plt.xlabel('Actual Values')\n",
    "plt.ylabel('Predicted Values')\n",
    "plt.title('Comparison of Predictions (Linear Regression vs KNN)')\n",
    "plt.legend()\n",
    "plt.show()\n",
    "print(df)"
   ]
  },
  {
   "cell_type": "code",
   "execution_count": 3,
   "metadata": {},
   "outputs": [
    {
     "ename": "IndentationError",
     "evalue": "expected an indented block after function definition on line 76 (2655129223.py, line 79)",
     "output_type": "error",
     "traceback": [
      "\u001b[1;36m  Cell \u001b[1;32mIn[3], line 79\u001b[1;36m\u001b[0m\n\u001b[1;33m    def ai_move(self):\u001b[0m\n\u001b[1;37m    ^\u001b[0m\n\u001b[1;31mIndentationError\u001b[0m\u001b[1;31m:\u001b[0m expected an indented block after function definition on line 76\n"
     ]
    }
   ],
   "source": [
    "import numpy as np\n",
    "import tkinter as tk\n",
    "from tkinter import messagebox\n",
    "\n",
    "class TicTacToe3D:\n",
    "    def __init__(self, master):\n",
    "        self.master = master\n",
    "        self.master.title(\"3D Tic Tac Toe\")\n",
    "\n",
    "        self.board = np.full((4, 4, 4), ' ')\n",
    "        self.player_turn = 'X'\n",
    "        self.turn_count = 0\n",
    "        self.list_of_goals = self.create_goals(self.board)\n",
    "        self.goal = self.choose_random_goal(self.list_of_goals)\n",
    "\n",
    "        self.buttons = [[[tk.Button(self.master, text='', width=4, height=2, command=lambda layer=l, row=r, col=c: self.on_button_click(layer, row, col))\n",
    "                         for c in range(4)] for r in range(4)] for l in range(4)]\n",
    "\n",
    "        for layer in range(4):\n",
    "            for row in range(4):\n",
    "                for col in range(4):\n",
    "                    self.buttons[layer][row][col].grid(row=row + layer * 4, column=col + layer * 4, padx=5, pady=0)\n",
    "\n",
    "        self.draw_board_label = tk.Label(self.master, text=self.draw_board(), font=(\"Helvetica\", 12))\n",
    "        self.draw_board_label.grid(row=4, column=0, columnspan=20)\n",
    "\n",
    "    def on_button_click(self, layer, row, col):\n",
    "        if self.board[layer, row, col] == ' ':\n",
    "            self.input_player_move((layer, row, col))\n",
    "            self.buttons[layer][row][col]['text'] = self.player_turn\n",
    "\n",
    "            if self.check_for_wins() != 'None':\n",
    "                self.draw_board_label.config(text=self.draw_board())\n",
    "                messagebox.showinfo(\"Game Over\", f'The winner is {self.check_for_wins()}')\n",
    "                self.master.destroy()\n",
    "\n",
    "            self.player_turn = self.swap_player_turn(self.player_turn)\n",
    "            self.turn_count += 1\n",
    "            while not self.check_if_goal_valid(self.goal):\n",
    "                self.goal = self.choose_random_goal(self.list_of_goals)\n",
    "\n",
    "            self.draw_board_label.config(text=self.draw_board())\n",
    "            self.ai_move()\n",
    "\n",
    "            if self.check_for_wins() != 'None':\n",
    "                self.draw_board_label.config(text=self.draw_board())\n",
    "                messagebox.showinfo(\"Game Over\", f'The winner is {self.check_for_wins()}')\n",
    "                self.master.destroy()\n",
    "\n",
    "    def draw_board(self):\n",
    "        frame1 = self.get_frame(0)\n",
    "        frame2 = self.get_frame(1)\n",
    "        frame3 = self.get_frame(2)\n",
    "        frame4 = self.get_frame(3)\n",
    "\n",
    "        frame1.index = ['A', 'B', 'C', 'D']\n",
    "        frame2.index = ['E', 'F', 'G', 'H']\n",
    "        frame3.index = ['I', 'J', 'K', 'L']\n",
    "        frame4.index = ['M', 'N', 'O', 'P']\n",
    "\n",
    "        return f\"{frame1}\\n\\n{frame2}\\n\\n{frame3}\\n\\n{frame4}\"\n",
    "\n",
    "    def get_frame(self, layer):\n",
    "        return pd.DataFrame(self.board[layer])\n",
    "\n",
    "    def swap_player_turn(self, player_turn):\n",
    "        if player_turn == 'X':\n",
    "            return 'O'\n",
    "        elif player_turn == 'O':\n",
    "            return 'X'\n",
    "\n",
    "    def input_player_move(self, move):\n",
    "        b, r, c = move\n",
    "        self.board[b, r, c] = self.player_turn\n",
    "\n",
    "    def check_for_wins(self):\n",
    "        # (same as before)\n",
    "\n",
    "    def ai_move(self):\n",
    "        if not self.check_if_ai_could_win():\n",
    "            if not self.check_if_player_could_win():\n",
    "                self.follow_goal()\n",
    "\n",
    "    def choose_random_goal(self, list_of_goals):\n",
    "        num = rnd.randrange(0, len(list_of_goals))\n",
    "        goal = list_of_goals[num]\n",
    "        list_of_goals.pop(num)\n",
    "        return goal\n",
    "\n",
    "    def create_goals(self, board):\n",
    "        # (same as before)\n",
    "\n",
    "    def check_if_goal_valid(self, goal):\n",
    "        for b, r, c in goal:\n",
    "            if self.board[b, r, c] != ' ':\n",
    "                return False\n",
    "        return True\n",
    "\n",
    "    def play_tic_tac_toe(self):\n",
    "        root = tk.Tk()\n",
    "        tic_tac_toe_game = TicTacToe3D(root)\n",
    "        root.mainloop()\n",
    "\n",
    "if __name__ == \"__main__\":\n",
    "    game = TicTacToe3D()\n",
    "    game.play_tic_tac_toe()\n"
   ]
  }
 ],
 "metadata": {
  "kernelspec": {
   "display_name": "Python 3",
   "language": "python",
   "name": "python3"
  },
  "language_info": {
   "codemirror_mode": {
    "name": "ipython",
    "version": 3
   },
   "file_extension": ".py",
   "mimetype": "text/x-python",
   "name": "python",
   "nbconvert_exporter": "python",
   "pygments_lexer": "ipython3",
   "version": "3.10.0"
  }
 },
 "nbformat": 4,
 "nbformat_minor": 2
}
